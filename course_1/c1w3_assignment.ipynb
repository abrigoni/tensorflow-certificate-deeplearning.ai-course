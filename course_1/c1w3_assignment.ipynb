{
 "cells": [
  {
   "cell_type": "markdown",
   "source": [
    "### Assignment\n",
    "Improve MNIST with CNN\n",
    "\n",
    "99.8% accuracy required"
   ],
   "metadata": {
    "collapsed": false
   }
  },
  {
   "cell_type": "code",
   "execution_count": 1,
   "outputs": [],
   "source": [
    "import tensorflow as tf\n",
    "from tensorflow.keras.datasets import mnist"
   ],
   "metadata": {
    "collapsed": false,
    "pycharm": {
     "name": "#%%\n"
    }
   }
  },
  {
   "cell_type": "code",
   "execution_count": 2,
   "outputs": [],
   "source": [
    "class MyCallback(tf.keras.callbacks.Callback):\n",
    "    def on_epoch_end(self, epoch, logs={}):\n",
    "        if (logs.get('accuracy')) >= 0.998:\n",
    "            print(\"\\nReached 99.8% accuracy so cancelling training!\")\n",
    "            self.model.stop_training = True"
   ],
   "metadata": {
    "collapsed": false,
    "pycharm": {
     "name": "#%%\n"
    }
   }
  },
  {
   "cell_type": "code",
   "execution_count": 3,
   "outputs": [],
   "source": [
    "(training_images, training_labels), (test_images, test_labels) = mnist.load_data()"
   ],
   "metadata": {
    "collapsed": false,
    "pycharm": {
     "name": "#%%\n"
    }
   }
  },
  {
   "cell_type": "code",
   "execution_count": 4,
   "outputs": [],
   "source": [
    " # shape, 28x28, 1 channel for the color\n",
    "training_images = training_images.reshape(training_images.shape[0], 28, 28, 1)\n",
    "test_images = test_images.reshape(test_images.shape[0], 28, 28, 1)\n",
    "training_images, test_images = training_images / 255.0, test_images / 255.0\n",
    "callbacks = MyCallback()"
   ],
   "metadata": {
    "collapsed": false,
    "pycharm": {
     "name": "#%%\n"
    }
   }
  },
  {
   "cell_type": "code",
   "execution_count": 6,
   "outputs": [],
   "source": [
    "model = tf.keras.models.Sequential([\n",
    "            # CNN Layers\n",
    "            tf.keras.layers.Conv2D(32, (3,3), activation='relu', input_shape=(28,28,1)),\n",
    "            tf.keras.layers.MaxPooling2D(2,2),\n",
    "            # Usual flattens and dense layers\n",
    "            tf.keras.layers.Flatten(),\n",
    "            tf.keras.layers.Dense(128, activation=tf.nn.relu),\n",
    "            tf.keras.layers.Dense(10, activation=tf.nn.softmax)\n",
    "])\n",
    "\n",
    "model.compile(optimizer='adam', loss='sparse_categorical_crossentropy', metrics=['accuracy'])"
   ],
   "metadata": {
    "collapsed": false,
    "pycharm": {
     "name": "#%%\n"
    }
   }
  },
  {
   "cell_type": "code",
   "execution_count": 7,
   "outputs": [
    {
     "name": "stdout",
     "output_type": "stream",
     "text": [
      "Epoch 1/20\n",
      "1875/1875 [==============================] - 14s 7ms/step - loss: 0.1526 - accuracy: 0.9547\n",
      "Epoch 2/20\n",
      "1875/1875 [==============================] - 14s 7ms/step - loss: 0.0522 - accuracy: 0.9840\n",
      "Epoch 3/20\n",
      "1875/1875 [==============================] - 14s 7ms/step - loss: 0.0337 - accuracy: 0.9894\n",
      "Epoch 4/20\n",
      "1875/1875 [==============================] - 14s 7ms/step - loss: 0.0216 - accuracy: 0.9930\n",
      "Epoch 5/20\n",
      "1875/1875 [==============================] - 14s 7ms/step - loss: 0.0148 - accuracy: 0.9954\n",
      "Epoch 6/20\n",
      "1875/1875 [==============================] - 14s 7ms/step - loss: 0.0115 - accuracy: 0.9963\n",
      "Epoch 7/20\n",
      "1875/1875 [==============================] - 14s 8ms/step - loss: 0.0085 - accuracy: 0.9974\n",
      "Epoch 8/20\n",
      "1875/1875 [==============================] - 14s 8ms/step - loss: 0.0073 - accuracy: 0.9976\n",
      "Epoch 9/20\n",
      "1871/1875 [============================>.] - ETA: 0s - loss: 0.0048 - accuracy: 0.9986\n",
      "Reached 99.8% accuracy so cancelling training!\n",
      "1875/1875 [==============================] - 14s 7ms/step - loss: 0.0048 - accuracy: 0.9986\n"
     ]
    }
   ],
   "source": [
    "history = model.fit(\n",
    "    training_images,\n",
    "    training_labels,\n",
    "    epochs=20,\n",
    "    callbacks=[callbacks]\n",
    ")"
   ],
   "metadata": {
    "collapsed": false,
    "pycharm": {
     "name": "#%%\n"
    }
   }
  },
  {
   "cell_type": "code",
   "execution_count": 8,
   "outputs": [
    {
     "name": "stdout",
     "output_type": "stream",
     "text": [
      "[0, 1, 2, 3, 4, 5, 6, 7, 8] [0.9546833038330078, 0.9839500188827515, 0.9894166588783264, 0.9930333495140076, 0.9954333305358887, 0.9962999820709229, 0.9973666667938232, 0.9976333379745483, 0.9985666871070862]\n"
     ]
    }
   ],
   "source": [
    "print(history.epoch, history.history['accuracy'])"
   ],
   "metadata": {
    "collapsed": false,
    "pycharm": {
     "name": "#%%\n"
    }
   }
  }
 ],
 "metadata": {
  "kernelspec": {
   "display_name": "Python 3",
   "language": "python",
   "name": "python3"
  },
  "language_info": {
   "codemirror_mode": {
    "name": "ipython",
    "version": 2
   },
   "file_extension": ".py",
   "mimetype": "text/x-python",
   "name": "python",
   "nbconvert_exporter": "python",
   "pygments_lexer": "ipython2",
   "version": "2.7.6"
  }
 },
 "nbformat": 4,
 "nbformat_minor": 0
}