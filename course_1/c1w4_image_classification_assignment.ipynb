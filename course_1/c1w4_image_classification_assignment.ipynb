{
 "cells": [
  {
   "cell_type": "markdown",
   "source": [
    "Below is code with a link to a happy or sad dataset which contains 80 images, 40 happy and 40 sad. Create a convolutional neural network that trains to 100% accuracy on these images, which cancels training upon hitting training accuracy of >.999"
   ],
   "metadata": {
    "collapsed": false
   }
  },
  {
   "cell_type": "code",
   "execution_count": 47,
   "outputs": [],
   "source": [
    "import tensorflow as tf\n",
    "import os\n",
    "import zipfile\n",
    "from os import path, getcwd, chdir"
   ],
   "metadata": {
    "collapsed": false,
    "pycharm": {
     "name": "#%%\n"
    }
   }
  },
  {
   "cell_type": "code",
   "execution_count": 48,
   "outputs": [],
   "source": [
    "path = f\"{getcwd()}/datasets/happy-or-sad.zip\"\n",
    "\n",
    "zip_ref = zipfile.ZipFile(path, 'r')\n",
    "zip_ref.extractall(\"datasets/h-or-s\")\n",
    "zip_ref.close()"
   ],
   "metadata": {
    "collapsed": false,
    "pycharm": {
     "name": "#%%\n"
    }
   }
  },
  {
   "cell_type": "code",
   "execution_count": 49,
   "outputs": [],
   "source": [
    "DESIRED_ACCURACY = 0.999"
   ],
   "metadata": {
    "collapsed": false,
    "pycharm": {
     "name": "#%%\n"
    }
   }
  },
  {
   "cell_type": "code",
   "execution_count": 50,
   "outputs": [],
   "source": [
    "class MyCallback(tf.keras.callbacks.Callback):\n",
    "    def on_epoch_end(self, epoch, logs={}):\n",
    "        if (logs.get('accuracy')) >= DESIRED_ACCURACY:\n",
    "            print(\"\\nReached 99.8% accuracy so cancelling training!\")\n",
    "            self.model.stop_training = True"
   ],
   "metadata": {
    "collapsed": false,
    "pycharm": {
     "name": "#%%\n"
    }
   }
  },
  {
   "cell_type": "code",
   "execution_count": 51,
   "outputs": [],
   "source": [
    "callbacks = MyCallback()"
   ],
   "metadata": {
    "collapsed": false,
    "pycharm": {
     "name": "#%%\n"
    }
   }
  },
  {
   "cell_type": "code",
   "execution_count": 52,
   "outputs": [],
   "source": [
    "model = tf.keras.models.Sequential([\n",
    "        # First convolution\n",
    "        # 150x150 resolution and last channel with 3 for RGB value from 0 to 255 each\n",
    "        tf.keras.layers.Conv2D(16, (3,3), activation='relu', input_shape=(150, 150, 3)),\n",
    "        tf.keras.layers.MaxPooling2D(2,2),\n",
    "        # Second convolution\n",
    "        tf.keras.layers.Conv2D(32, (3,3), activation='relu'),\n",
    "        tf.keras.layers.MaxPooling2D(2,2),\n",
    "        # Third convolution\n",
    "        tf.keras.layers.Conv2D(64, (3,3), activation='relu'),\n",
    "        tf.keras.layers.MaxPooling2D(2,2),\n",
    "        # Flatten to feed to DNN\n",
    "        tf.keras.layers.Flatten(),\n",
    "        tf.keras.layers.Dense(512, activation='relu'),\n",
    "        # Only 1 output => happy | sad\n",
    "        tf.keras.layers.Dense(1, activation='sigmoid')\n",
    "    ])"
   ],
   "metadata": {
    "collapsed": false,
    "pycharm": {
     "name": "#%%\n"
    }
   }
  },
  {
   "cell_type": "code",
   "execution_count": 61,
   "outputs": [],
   "source": [
    "from tensorflow.keras.optimizers import RMSprop\n",
    "\n",
    "model.compile(\n",
    "    loss='binary_crossentropy',\n",
    "    optimizer=RMSprop(learning_rate=0.001),\n",
    "    metrics=['accuracy']\n",
    ")"
   ],
   "metadata": {
    "collapsed": false,
    "pycharm": {
     "name": "#%%\n"
    }
   }
  },
  {
   "cell_type": "code",
   "execution_count": 62,
   "outputs": [],
   "source": [
    "num_samples = 80\n",
    "batch_size = 32\n",
    "epochs = 15"
   ],
   "metadata": {
    "collapsed": false,
    "pycharm": {
     "name": "#%%\n"
    }
   }
  },
  {
   "cell_type": "code",
   "execution_count": 63,
   "outputs": [
    {
     "name": "stdout",
     "output_type": "stream",
     "text": [
      "Found 80 images belonging to 2 classes.\n"
     ]
    }
   ],
   "source": [
    "# This code block should create an instance of an ImageDataGenerator called train_datagen\n",
    "# And a train_generator by calling train_datagen.flow_from_directory\n",
    "\n",
    "from tensorflow.keras.preprocessing.image import ImageDataGenerator\n",
    "\n",
    "train_datagen = ImageDataGenerator(rescale=1/255.0) # Your Code Here\n",
    "\n",
    "# Please use a target_size of 150 X 150.\n",
    "train_generator = train_datagen.flow_from_directory(\n",
    "    'datasets/h-or-s',\n",
    "    target_size=(150,150),\n",
    "    batch_size=batch_size,\n",
    "    class_mode='binary'\n",
    ")\n",
    "# Expected output: 'Found 80 images belonging to 2 classes'"
   ],
   "metadata": {
    "collapsed": false,
    "pycharm": {
     "name": "#%%\n"
    }
   }
  },
  {
   "cell_type": "code",
   "execution_count": 64,
   "outputs": [
    {
     "name": "stdout",
     "output_type": "stream",
     "text": [
      "Epoch 1/15\n",
      "2/2 [==============================] - 1s 197ms/step - loss: 9.3479 - accuracy: 0.3281\n",
      "Epoch 2/15\n",
      "2/2 [==============================] - 0s 195ms/step - loss: 0.7908 - accuracy: 0.5781\n",
      "Epoch 3/15\n",
      "2/2 [==============================] - 0s 205ms/step - loss: 0.8767 - accuracy: 0.5625\n",
      "Epoch 4/15\n",
      "2/2 [==============================] - 0s 202ms/step - loss: 0.6802 - accuracy: 0.5469\n",
      "Epoch 5/15\n",
      "2/2 [==============================] - 0s 203ms/step - loss: 0.6256 - accuracy: 0.5833\n",
      "Epoch 6/15\n",
      "2/2 [==============================] - 0s 202ms/step - loss: 0.7731 - accuracy: 0.5417\n",
      "Epoch 7/15\n",
      "2/2 [==============================] - 0s 143ms/step - loss: 0.5804 - accuracy: 0.5833\n",
      "Epoch 8/15\n",
      "2/2 [==============================] - 0s 209ms/step - loss: 0.4482 - accuracy: 0.8281\n",
      "Epoch 9/15\n",
      "2/2 [==============================] - 0s 135ms/step - loss: 0.5406 - accuracy: 0.5417\n",
      "Epoch 10/15\n",
      "2/2 [==============================] - 0s 200ms/step - loss: 0.3783 - accuracy: 0.7917\n",
      "Epoch 11/15\n",
      "2/2 [==============================] - 0s 139ms/step - loss: 0.2427 - accuracy: 0.9583\n",
      "Epoch 12/15\n",
      "2/2 [==============================] - 0s 135ms/step - loss: 0.2895 - accuracy: 0.8333\n",
      "Epoch 13/15\n",
      "2/2 [==============================] - 0s 134ms/step - loss: 0.1580 - accuracy: 0.9792\n",
      "Epoch 14/15\n",
      "2/2 [==============================] - 0s 206ms/step - loss: 0.1192 - accuracy: 0.9583\n",
      "Epoch 15/15\n",
      "2/2 [==============================] - ETA: 0s - loss: 0.1023 - accuracy: 1.0000\n",
      "Reached 99.8% accuracy so cancelling training!\n",
      "2/2 [==============================] - 0s 137ms/step - loss: 0.1023 - accuracy: 1.0000\n"
     ]
    }
   ],
   "source": [
    "# This code block should call model.fit_generator and train for\n",
    "# a number of epochs.\n",
    "# model fitting\n",
    "# fit_generator deprecated, instead using fit\n",
    "history = model.fit(\n",
    "    train_generator,\n",
    "    steps_per_epoch=(num_samples // batch_size),\n",
    "    epochs=epochs,\n",
    "    verbose=1,\n",
    "    callbacks=[callbacks]\n",
    ")"
   ],
   "metadata": {
    "collapsed": false,
    "pycharm": {
     "name": "#%%\n"
    }
   }
  },
  {
   "cell_type": "code",
   "execution_count": 66,
   "outputs": [
    {
     "name": "stdout",
     "output_type": "stream",
     "text": [
      "1.0\n"
     ]
    }
   ],
   "source": [
    "print(history.history['accuracy'][-1])"
   ],
   "metadata": {
    "collapsed": false,
    "pycharm": {
     "name": "#%%\n"
    }
   }
  }
 ],
 "metadata": {
  "kernelspec": {
   "display_name": "Python 3",
   "language": "python",
   "name": "python3"
  },
  "language_info": {
   "codemirror_mode": {
    "name": "ipython",
    "version": 2
   },
   "file_extension": ".py",
   "mimetype": "text/x-python",
   "name": "python",
   "nbconvert_exporter": "python",
   "pygments_lexer": "ipython2",
   "version": "2.7.6"
  }
 },
 "nbformat": 4,
 "nbformat_minor": 0
}