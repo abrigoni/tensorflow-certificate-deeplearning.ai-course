{
 "cells": [
  {
   "cell_type": "code",
   "execution_count": 39,
   "metadata": {
    "collapsed": true
   },
   "outputs": [],
   "source": [
    "import csv\n",
    "import string\n",
    "import numpy as np\n",
    "import tensorflow as tf\n",
    "import matplotlib.pyplot as plt\n",
    "from tensorflow.keras.preprocessing.image import ImageDataGenerator, array_to_img"
   ]
  },
  {
   "cell_type": "code",
   "execution_count": 2,
   "outputs": [
    {
     "name": "stderr",
     "output_type": "stream",
     "text": [
      "c:\\users\\brian\\pycharmprojects\\tf_certification\\tf_certif_venv\\lib\\site-packages\\gdown\\cli.py:127: FutureWarning: Option `--id` was deprecated in version 4.3.1 and will be removed in 5.0. You don't need to pass it anymore to use a file ID.\n",
      "  warnings.warn(\n",
      "Downloading...\n",
      "From: https://drive.google.com/uc?id=1z0DkA9BytlLxO1C0BAWzknLyQmZAp0HR\n",
      "To: C:\\Users\\brian\\PycharmProjects\\tf_certification\\course_2\\sign_mnist_train.csv\n",
      "\n",
      "  0%|          | 0.00/83.3M [00:00<?, ?B/s]\n",
      "  1%|          | 524k/83.3M [00:00<00:38, 2.16MB/s]\n",
      "  1%|1         | 1.05M/83.3M [00:00<00:47, 1.74MB/s]\n",
      "  2%|1         | 1.57M/83.3M [00:00<00:39, 2.06MB/s]\n",
      "  3%|2         | 2.10M/83.3M [00:01<00:39, 2.06MB/s]\n",
      "  3%|3         | 2.62M/83.3M [00:01<00:41, 1.96MB/s]\n",
      "  4%|3         | 3.15M/83.3M [00:01<00:42, 1.89MB/s]\n",
      "  4%|4         | 3.67M/83.3M [00:01<00:42, 1.86MB/s]\n",
      "  5%|5         | 4.19M/83.3M [00:02<00:43, 1.83MB/s]\n",
      "  6%|5         | 4.72M/83.3M [00:02<00:44, 1.77MB/s]\n",
      "  6%|6         | 5.24M/83.3M [00:02<00:48, 1.62MB/s]\n",
      "  7%|6         | 5.77M/83.3M [00:03<00:45, 1.71MB/s]\n",
      "  8%|7         | 6.29M/83.3M [00:03<00:46, 1.64MB/s]\n",
      "  8%|8         | 6.82M/83.3M [00:03<00:45, 1.68MB/s]\n",
      "  9%|8         | 7.34M/83.3M [00:04<00:42, 1.77MB/s]\n",
      "  9%|9         | 7.86M/83.3M [00:04<00:43, 1.72MB/s]\n",
      " 10%|#         | 8.39M/83.3M [00:04<00:42, 1.75MB/s]\n",
      " 11%|#         | 8.91M/83.3M [00:04<00:41, 1.80MB/s]\n",
      " 11%|#1        | 9.44M/83.3M [00:05<00:41, 1.78MB/s]\n",
      " 12%|#1        | 9.96M/83.3M [00:05<00:40, 1.80MB/s]\n",
      " 13%|#2        | 10.5M/83.3M [00:05<00:40, 1.82MB/s]\n",
      " 13%|#3        | 11.0M/83.3M [00:06<00:39, 1.84MB/s]\n",
      " 14%|#3        | 11.5M/83.3M [00:06<00:39, 1.82MB/s]\n",
      " 14%|#4        | 12.1M/83.3M [00:06<00:39, 1.82MB/s]\n",
      " 15%|#5        | 12.6M/83.3M [00:06<00:36, 1.92MB/s]\n",
      " 16%|#5        | 13.1M/83.3M [00:07<00:38, 1.81MB/s]\n",
      " 16%|#6        | 13.6M/83.3M [00:07<00:41, 1.67MB/s]\n",
      " 17%|#7        | 14.2M/83.3M [00:08<00:43, 1.57MB/s]\n",
      " 18%|#7        | 14.7M/83.3M [00:08<00:41, 1.64MB/s]\n",
      " 18%|#8        | 15.2M/83.3M [00:08<00:41, 1.64MB/s]\n",
      " 19%|#8        | 15.7M/83.3M [00:08<00:39, 1.69MB/s]\n",
      " 20%|#9        | 16.3M/83.3M [00:09<00:38, 1.74MB/s]\n",
      " 20%|##        | 16.8M/83.3M [00:09<00:38, 1.75MB/s]\n",
      " 21%|##        | 17.3M/83.3M [00:09<00:36, 1.79MB/s]\n",
      " 21%|##1       | 17.8M/83.3M [00:10<00:34, 1.88MB/s]\n",
      " 22%|##2       | 18.4M/83.3M [00:10<00:38, 1.68MB/s]\n",
      " 23%|##2       | 18.9M/83.3M [00:10<00:34, 1.85MB/s]\n",
      " 23%|##3       | 19.4M/83.3M [00:10<00:33, 1.91MB/s]\n",
      " 24%|##3       | 19.9M/83.3M [00:11<00:35, 1.80MB/s]\n",
      " 25%|##4       | 20.4M/83.3M [00:11<00:34, 1.83MB/s]\n",
      " 25%|##5       | 21.0M/83.3M [00:11<00:34, 1.83MB/s]\n",
      " 26%|##5       | 21.5M/83.3M [00:12<00:32, 1.91MB/s]\n",
      " 26%|##6       | 22.0M/83.3M [00:12<00:33, 1.83MB/s]\n",
      " 27%|##7       | 22.5M/83.3M [00:12<00:36, 1.67MB/s]\n",
      " 28%|##7       | 23.1M/83.3M [00:13<00:38, 1.58MB/s]\n",
      " 28%|##8       | 23.6M/83.3M [00:13<00:36, 1.63MB/s]\n",
      " 29%|##8       | 24.1M/83.3M [00:13<00:34, 1.72MB/s]\n",
      " 30%|##9       | 24.6M/83.3M [00:13<00:33, 1.76MB/s]\n",
      " 30%|###       | 25.2M/83.3M [00:14<00:33, 1.72MB/s]\n",
      " 31%|###       | 25.7M/83.3M [00:14<00:33, 1.74MB/s]\n",
      " 31%|###1      | 26.2M/83.3M [00:14<00:32, 1.77MB/s]\n",
      " 32%|###2      | 26.7M/83.3M [00:15<00:30, 1.88MB/s]\n",
      " 33%|###2      | 27.3M/83.3M [00:15<00:31, 1.79MB/s]\n",
      " 33%|###3      | 27.8M/83.3M [00:15<00:30, 1.79MB/s]\n",
      " 34%|###4      | 28.3M/83.3M [00:15<00:30, 1.81MB/s]\n",
      " 35%|###4      | 28.8M/83.3M [00:16<00:28, 1.90MB/s]\n",
      " 35%|###5      | 29.4M/83.3M [00:16<00:29, 1.80MB/s]\n",
      " 36%|###5      | 29.9M/83.3M [00:16<00:29, 1.81MB/s]\n",
      " 37%|###6      | 30.4M/83.3M [00:17<00:28, 1.82MB/s]\n",
      " 37%|###7      | 30.9M/83.3M [00:17<00:27, 1.91MB/s]\n",
      " 38%|###7      | 31.5M/83.3M [00:17<00:29, 1.75MB/s]\n",
      " 38%|###8      | 32.0M/83.3M [00:18<00:32, 1.60MB/s]\n",
      " 39%|###9      | 32.5M/83.3M [00:18<00:31, 1.59MB/s]\n",
      " 40%|###9      | 33.0M/83.3M [00:18<00:32, 1.54MB/s]\n",
      " 40%|####      | 33.6M/83.3M [00:19<00:29, 1.68MB/s]\n",
      " 41%|####      | 34.1M/83.3M [00:19<00:28, 1.71MB/s]\n",
      " 42%|####1     | 34.6M/83.3M [00:19<00:27, 1.79MB/s]\n",
      " 42%|####2     | 35.1M/83.3M [00:19<00:25, 1.89MB/s]\n",
      " 43%|####2     | 35.7M/83.3M [00:20<00:25, 1.87MB/s]\n",
      " 43%|####3     | 36.2M/83.3M [00:20<00:25, 1.85MB/s]\n",
      " 44%|####4     | 36.7M/83.3M [00:20<00:25, 1.84MB/s]\n",
      " 45%|####4     | 37.2M/83.3M [00:20<00:25, 1.84MB/s]\n",
      " 45%|####5     | 37.7M/83.3M [00:21<00:24, 1.83MB/s]\n",
      " 46%|####5     | 38.3M/83.3M [00:21<00:24, 1.83MB/s]\n",
      " 47%|####6     | 38.8M/83.3M [00:21<00:24, 1.82MB/s]\n",
      " 47%|####7     | 39.3M/83.3M [00:22<00:24, 1.82MB/s]\n",
      " 48%|####7     | 39.8M/83.3M [00:22<00:24, 1.74MB/s]\n",
      " 48%|####8     | 40.4M/83.3M [00:22<00:26, 1.61MB/s]\n",
      " 49%|####9     | 40.9M/83.3M [00:23<00:26, 1.62MB/s]\n",
      " 50%|####9     | 41.4M/83.3M [00:23<00:25, 1.62MB/s]\n",
      " 50%|#####     | 41.9M/83.3M [00:23<00:27, 1.49MB/s]\n",
      " 51%|#####1    | 42.5M/83.3M [00:24<00:25, 1.58MB/s]\n",
      " 52%|#####1    | 43.0M/83.3M [00:24<00:23, 1.72MB/s]\n",
      " 52%|#####2    | 43.5M/83.3M [00:24<00:21, 1.89MB/s]\n",
      " 53%|#####2    | 44.0M/83.3M [00:24<00:22, 1.76MB/s]\n",
      " 54%|#####3    | 44.6M/83.3M [00:25<00:20, 1.91MB/s]\n",
      " 54%|#####4    | 45.1M/83.3M [00:25<00:19, 1.93MB/s]\n",
      " 55%|#####4    | 45.6M/83.3M [00:25<00:19, 1.89MB/s]\n",
      " 55%|#####5    | 46.1M/83.3M [00:26<00:19, 1.87MB/s]\n",
      " 56%|#####6    | 46.7M/83.3M [00:26<00:19, 1.86MB/s]\n",
      " 57%|#####6    | 47.2M/83.3M [00:26<00:19, 1.84MB/s]\n",
      " 57%|#####7    | 47.7M/83.3M [00:26<00:19, 1.83MB/s]\n",
      " 58%|#####7    | 48.2M/83.3M [00:27<00:19, 1.83MB/s]\n",
      " 59%|#####8    | 48.8M/83.3M [00:27<00:20, 1.68MB/s]\n",
      " 59%|#####9    | 49.3M/83.3M [00:27<00:20, 1.66MB/s]\n",
      " 60%|#####9    | 49.8M/83.3M [00:28<00:21, 1.57MB/s]\n",
      " 60%|######    | 50.3M/83.3M [00:28<00:19, 1.68MB/s]\n",
      " 61%|######1   | 50.9M/83.3M [00:28<00:18, 1.72MB/s]\n",
      " 62%|######1   | 51.4M/83.3M [00:29<00:18, 1.70MB/s]\n",
      " 62%|######2   | 51.9M/83.3M [00:29<00:19, 1.61MB/s]\n",
      " 63%|######2   | 52.4M/83.3M [00:29<00:17, 1.76MB/s]\n",
      " 64%|######3   | 53.0M/83.3M [00:30<00:17, 1.73MB/s]\n",
      " 64%|######4   | 53.5M/83.3M [00:30<00:16, 1.80MB/s]\n",
      " 65%|######4   | 54.0M/83.3M [00:30<00:15, 1.88MB/s]\n",
      " 65%|######5   | 54.5M/83.3M [00:30<00:14, 1.95MB/s]\n",
      " 66%|######6   | 55.1M/83.3M [00:31<00:14, 1.91MB/s]\n",
      " 67%|######6   | 55.6M/83.3M [00:31<00:14, 1.88MB/s]\n",
      " 67%|######7   | 56.1M/83.3M [00:31<00:14, 1.86MB/s]\n",
      " 68%|######8   | 56.6M/83.3M [00:31<00:14, 1.84MB/s]\n",
      " 69%|######8   | 57.1M/83.3M [00:32<00:14, 1.83MB/s]\n",
      " 69%|######9   | 57.7M/83.3M [00:32<00:14, 1.75MB/s]\n",
      " 70%|######9   | 58.2M/83.3M [00:32<00:14, 1.71MB/s]\n",
      " 71%|#######   | 58.7M/83.3M [00:33<00:15, 1.63MB/s]\n",
      " 71%|#######1  | 59.2M/83.3M [00:33<00:15, 1.56MB/s]\n",
      " 72%|#######1  | 59.8M/83.3M [00:33<00:13, 1.74MB/s]\n",
      " 72%|#######2  | 60.3M/83.3M [00:34<00:13, 1.70MB/s]\n",
      " 73%|#######3  | 60.8M/83.3M [00:34<00:12, 1.74MB/s]\n",
      " 74%|#######3  | 61.3M/83.3M [00:34<00:11, 1.85MB/s]\n",
      " 74%|#######4  | 61.9M/83.3M [00:35<00:11, 1.81MB/s]\n",
      " 75%|#######4  | 62.4M/83.3M [00:35<00:11, 1.77MB/s]\n",
      " 76%|#######5  | 62.9M/83.3M [00:35<00:11, 1.79MB/s]\n",
      " 76%|#######6  | 63.4M/83.3M [00:35<00:10, 1.89MB/s]\n",
      " 77%|#######6  | 64.0M/83.3M [00:36<00:10, 1.80MB/s]\n",
      " 77%|#######7  | 64.5M/83.3M [00:36<00:10, 1.79MB/s]\n",
      " 78%|#######8  | 65.0M/83.3M [00:36<00:09, 1.83MB/s]\n",
      " 79%|#######8  | 65.5M/83.3M [00:37<00:09, 1.90MB/s]\n",
      " 79%|#######9  | 66.1M/83.3M [00:37<00:09, 1.80MB/s]\n",
      " 80%|#######9  | 66.6M/83.3M [00:37<00:10, 1.62MB/s]\n",
      " 81%|########  | 67.1M/83.3M [00:38<00:09, 1.67MB/s]\n",
      " 81%|########1 | 67.6M/83.3M [00:38<00:10, 1.55MB/s]\n",
      " 82%|########1 | 68.2M/83.3M [00:38<00:09, 1.57MB/s]\n",
      " 82%|########2 | 68.7M/83.3M [00:39<00:09, 1.58MB/s]\n",
      " 83%|########3 | 69.2M/83.3M [00:39<00:08, 1.72MB/s]\n",
      " 84%|########3 | 69.7M/83.3M [00:39<00:07, 1.87MB/s]\n",
      " 84%|########4 | 70.3M/83.3M [00:39<00:07, 1.76MB/s]\n",
      " 85%|########5 | 70.8M/83.3M [00:40<00:06, 1.90MB/s]\n",
      " 86%|########5 | 71.3M/83.3M [00:40<00:06, 1.93MB/s]\n",
      " 86%|########6 | 71.8M/83.3M [00:40<00:06, 1.89MB/s]\n",
      " 87%|########6 | 72.4M/83.3M [00:40<00:05, 1.87MB/s]\n",
      " 88%|########7 | 72.9M/83.3M [00:41<00:05, 1.85MB/s]\n",
      " 88%|########8 | 73.4M/83.3M [00:41<00:05, 1.84MB/s]\n",
      " 89%|########8 | 73.9M/83.3M [00:41<00:05, 1.84MB/s]\n",
      " 89%|########9 | 74.4M/83.3M [00:42<00:04, 1.83MB/s]\n",
      " 90%|######### | 75.0M/83.3M [00:42<00:04, 1.83MB/s]\n",
      " 91%|######### | 75.5M/83.3M [00:42<00:04, 1.81MB/s]\n",
      " 91%|#########1| 76.0M/83.3M [00:42<00:04, 1.77MB/s]\n",
      " 92%|#########1| 76.5M/83.3M [00:43<00:04, 1.58MB/s]\n",
      " 93%|#########2| 77.1M/83.3M [00:43<00:03, 1.60MB/s]\n",
      " 93%|#########3| 77.6M/83.3M [00:43<00:03, 1.69MB/s]\n",
      " 94%|#########3| 78.1M/83.3M [00:44<00:03, 1.71MB/s]\n",
      " 94%|#########4| 78.6M/83.3M [00:44<00:02, 1.70MB/s]\n",
      " 95%|#########5| 79.2M/83.3M [00:44<00:02, 1.75MB/s]\n",
      " 96%|#########5| 79.7M/83.3M [00:45<00:01, 1.84MB/s]\n",
      " 96%|#########6| 80.2M/83.3M [00:45<00:01, 1.78MB/s]\n",
      " 97%|#########6| 80.7M/83.3M [00:45<00:01, 1.79MB/s]\n",
      " 98%|#########7| 81.3M/83.3M [00:46<00:01, 1.80MB/s]\n",
      " 98%|#########8| 81.8M/83.3M [00:46<00:00, 1.80MB/s]\n",
      " 99%|#########8| 82.3M/83.3M [00:46<00:00, 1.82MB/s]\n",
      "100%|#########9| 82.8M/83.3M [00:46<00:00, 1.80MB/s]\n",
      "100%|##########| 83.3M/83.3M [00:47<00:00, 1.84MB/s]\n",
      "100%|##########| 83.3M/83.3M [00:47<00:00, 1.77MB/s]\n",
      "c:\\users\\brian\\pycharmprojects\\tf_certification\\tf_certif_venv\\lib\\site-packages\\gdown\\cli.py:127: FutureWarning: Option `--id` was deprecated in version 4.3.1 and will be removed in 5.0. You don't need to pass it anymore to use a file ID.\n",
      "  warnings.warn(\n",
      "Downloading...\n",
      "From: https://drive.google.com/uc?id=1z1BIj4qmri59GWBG4ivMNFtpZ4AXIbzg\n",
      "To: C:\\Users\\brian\\PycharmProjects\\tf_certification\\course_2\\sign_mnist_test.csv\n",
      "\n",
      "  0%|          | 0.00/21.8M [00:00<?, ?B/s]\n",
      "  2%|2         | 524k/21.8M [00:00<00:10, 2.06MB/s]\n",
      "  5%|4         | 1.05M/21.8M [00:00<00:11, 1.88MB/s]\n",
      "  7%|7         | 1.57M/21.8M [00:00<00:09, 2.05MB/s]\n",
      " 10%|9         | 2.10M/21.8M [00:01<00:10, 1.92MB/s]\n",
      " 12%|#2        | 2.62M/21.8M [00:01<00:10, 1.85MB/s]\n",
      " 14%|#4        | 3.15M/21.8M [00:01<00:10, 1.80MB/s]\n",
      " 17%|#6        | 3.67M/21.8M [00:01<00:10, 1.78MB/s]\n",
      " 19%|#9        | 4.19M/21.8M [00:02<00:09, 1.76MB/s]\n",
      " 22%|##1       | 4.72M/21.8M [00:02<00:10, 1.65MB/s]\n",
      " 24%|##4       | 5.24M/21.8M [00:03<00:10, 1.58MB/s]\n",
      " 26%|##6       | 5.77M/21.8M [00:03<00:09, 1.66MB/s]\n",
      " 29%|##8       | 6.29M/21.8M [00:03<00:09, 1.68MB/s]\n",
      " 31%|###1      | 6.82M/21.8M [00:03<00:08, 1.69MB/s]\n",
      " 34%|###3      | 7.34M/21.8M [00:04<00:08, 1.78MB/s]\n",
      " 36%|###6      | 7.86M/21.8M [00:04<00:08, 1.73MB/s]\n",
      " 39%|###8      | 8.39M/21.8M [00:04<00:07, 1.77MB/s]\n",
      " 41%|####      | 8.91M/21.8M [00:05<00:07, 1.79MB/s]\n",
      " 43%|####3     | 9.44M/21.8M [00:05<00:06, 1.90MB/s]\n",
      " 46%|####5     | 9.96M/21.8M [00:05<00:06, 1.81MB/s]\n",
      " 48%|####8     | 10.5M/21.8M [00:05<00:06, 1.80MB/s]\n",
      " 51%|#####     | 11.0M/21.8M [00:06<00:05, 1.80MB/s]\n",
      " 53%|#####2    | 11.5M/21.8M [00:06<00:05, 1.91MB/s]\n",
      " 55%|#####5    | 12.1M/21.8M [00:06<00:05, 1.79MB/s]\n",
      " 58%|#####7    | 12.6M/21.8M [00:07<00:05, 1.81MB/s]\n",
      " 60%|######    | 13.1M/21.8M [00:07<00:04, 1.82MB/s]\n",
      " 63%|######2   | 13.6M/21.8M [00:07<00:04, 1.77MB/s]\n",
      " 65%|######5   | 14.2M/21.8M [00:08<00:04, 1.60MB/s]\n",
      " 67%|######7   | 14.7M/21.8M [00:08<00:04, 1.64MB/s]\n",
      " 70%|######9   | 15.2M/21.8M [00:08<00:03, 1.71MB/s]\n",
      " 72%|#######2  | 15.7M/21.8M [00:08<00:03, 1.64MB/s]\n",
      " 75%|#######4  | 16.3M/21.8M [00:09<00:03, 1.78MB/s]\n",
      " 77%|#######7  | 16.8M/21.8M [00:09<00:02, 1.77MB/s]\n",
      " 79%|#######9  | 17.3M/21.8M [00:09<00:02, 1.72MB/s]\n",
      " 82%|########1 | 17.8M/21.8M [00:10<00:02, 1.73MB/s]\n",
      " 84%|########4 | 18.4M/21.8M [00:10<00:01, 1.89MB/s]\n",
      " 87%|########6 | 18.9M/21.8M [00:10<00:01, 1.89MB/s]\n",
      " 89%|########9 | 19.4M/21.8M [00:10<00:01, 1.81MB/s]\n",
      " 92%|#########1| 19.9M/21.8M [00:11<00:00, 1.91MB/s]\n",
      " 94%|#########3| 20.4M/21.8M [00:11<00:00, 1.88MB/s]\n",
      " 96%|#########6| 21.0M/21.8M [00:11<00:00, 1.86MB/s]\n",
      " 99%|#########8| 21.5M/21.8M [00:12<00:00, 1.85MB/s]\n",
      "100%|##########| 21.8M/21.8M [00:12<00:00, 1.86MB/s]\n",
      "100%|##########| 21.8M/21.8M [00:12<00:00, 1.78MB/s]\n"
     ]
    }
   ],
   "source": [
    "# sign_mnist_train.csv\n",
    "!gdown --id 1z0DkA9BytlLxO1C0BAWzknLyQmZAp0HR\n",
    "# sign_mnist_test.csv\n",
    "!gdown --id 1z1BIj4qmri59GWBG4ivMNFtpZ4AXIbzg"
   ],
   "metadata": {
    "collapsed": false,
    "pycharm": {
     "name": "#%%\n"
    }
   }
  },
  {
   "cell_type": "code",
   "execution_count": 3,
   "outputs": [],
   "source": [
    "# EXTRA\n",
    "# gdown leaves at cwd, we must move these files into datasets/ directory\n",
    "\n",
    "import os\n",
    "os.rename('sign_mnist_test.csv', './datasets/sign_mnist_test.csv')\n",
    "os.rename('sign_mnist_train.csv', './datasets/sign_mnist_train.csv')"
   ],
   "metadata": {
    "collapsed": false,
    "pycharm": {
     "name": "#%%\n"
    }
   }
  },
  {
   "cell_type": "code",
   "execution_count": 4,
   "outputs": [],
   "source": [
    "TRAINING_FILE = './datasets/sign_mnist_train.csv'\n",
    "VALIDATION_FILE = './datasets/sign_mnist_test.csv'"
   ],
   "metadata": {
    "collapsed": false,
    "pycharm": {
     "name": "#%%\n"
    }
   }
  },
  {
   "cell_type": "code",
   "execution_count": 5,
   "outputs": [
    {
     "name": "stdout",
     "output_type": "stream",
     "text": [
      "First line (header) looks like this:\n",
      "label,pixel1,pixel2,pixel3,pixel4,pixel5,pixel6,pixel7,pixel8,pixel9,pixel10,pixel11,pixel12,pixel13,pixel14,pixel15,pixel16,pixel17,pixel18,pixel19,pixel20,pixel21,pixel22,pixel23,pixel24,pixel25,pixel26,pixel27,pixel28,pixel29,pixel30,pixel31,pixel32,pixel33,pixel34,pixel35,pixel36,pixel37,pixel38,pixel39,pixel40,pixel41,pixel42,pixel43,pixel44,pixel45,pixel46,pixel47,pixel48,pixel49,pixel50,pixel51,pixel52,pixel53,pixel54,pixel55,pixel56,pixel57,pixel58,pixel59,pixel60,pixel61,pixel62,pixel63,pixel64,pixel65,pixel66,pixel67,pixel68,pixel69,pixel70,pixel71,pixel72,pixel73,pixel74,pixel75,pixel76,pixel77,pixel78,pixel79,pixel80,pixel81,pixel82,pixel83,pixel84,pixel85,pixel86,pixel87,pixel88,pixel89,pixel90,pixel91,pixel92,pixel93,pixel94,pixel95,pixel96,pixel97,pixel98,pixel99,pixel100,pixel101,pixel102,pixel103,pixel104,pixel105,pixel106,pixel107,pixel108,pixel109,pixel110,pixel111,pixel112,pixel113,pixel114,pixel115,pixel116,pixel117,pixel118,pixel119,pixel120,pixel121,pixel122,pixel123,pixel124,pixel125,pixel126,pixel127,pixel128,pixel129,pixel130,pixel131,pixel132,pixel133,pixel134,pixel135,pixel136,pixel137,pixel138,pixel139,pixel140,pixel141,pixel142,pixel143,pixel144,pixel145,pixel146,pixel147,pixel148,pixel149,pixel150,pixel151,pixel152,pixel153,pixel154,pixel155,pixel156,pixel157,pixel158,pixel159,pixel160,pixel161,pixel162,pixel163,pixel164,pixel165,pixel166,pixel167,pixel168,pixel169,pixel170,pixel171,pixel172,pixel173,pixel174,pixel175,pixel176,pixel177,pixel178,pixel179,pixel180,pixel181,pixel182,pixel183,pixel184,pixel185,pixel186,pixel187,pixel188,pixel189,pixel190,pixel191,pixel192,pixel193,pixel194,pixel195,pixel196,pixel197,pixel198,pixel199,pixel200,pixel201,pixel202,pixel203,pixel204,pixel205,pixel206,pixel207,pixel208,pixel209,pixel210,pixel211,pixel212,pixel213,pixel214,pixel215,pixel216,pixel217,pixel218,pixel219,pixel220,pixel221,pixel222,pixel223,pixel224,pixel225,pixel226,pixel227,pixel228,pixel229,pixel230,pixel231,pixel232,pixel233,pixel234,pixel235,pixel236,pixel237,pixel238,pixel239,pixel240,pixel241,pixel242,pixel243,pixel244,pixel245,pixel246,pixel247,pixel248,pixel249,pixel250,pixel251,pixel252,pixel253,pixel254,pixel255,pixel256,pixel257,pixel258,pixel259,pixel260,pixel261,pixel262,pixel263,pixel264,pixel265,pixel266,pixel267,pixel268,pixel269,pixel270,pixel271,pixel272,pixel273,pixel274,pixel275,pixel276,pixel277,pixel278,pixel279,pixel280,pixel281,pixel282,pixel283,pixel284,pixel285,pixel286,pixel287,pixel288,pixel289,pixel290,pixel291,pixel292,pixel293,pixel294,pixel295,pixel296,pixel297,pixel298,pixel299,pixel300,pixel301,pixel302,pixel303,pixel304,pixel305,pixel306,pixel307,pixel308,pixel309,pixel310,pixel311,pixel312,pixel313,pixel314,pixel315,pixel316,pixel317,pixel318,pixel319,pixel320,pixel321,pixel322,pixel323,pixel324,pixel325,pixel326,pixel327,pixel328,pixel329,pixel330,pixel331,pixel332,pixel333,pixel334,pixel335,pixel336,pixel337,pixel338,pixel339,pixel340,pixel341,pixel342,pixel343,pixel344,pixel345,pixel346,pixel347,pixel348,pixel349,pixel350,pixel351,pixel352,pixel353,pixel354,pixel355,pixel356,pixel357,pixel358,pixel359,pixel360,pixel361,pixel362,pixel363,pixel364,pixel365,pixel366,pixel367,pixel368,pixel369,pixel370,pixel371,pixel372,pixel373,pixel374,pixel375,pixel376,pixel377,pixel378,pixel379,pixel380,pixel381,pixel382,pixel383,pixel384,pixel385,pixel386,pixel387,pixel388,pixel389,pixel390,pixel391,pixel392,pixel393,pixel394,pixel395,pixel396,pixel397,pixel398,pixel399,pixel400,pixel401,pixel402,pixel403,pixel404,pixel405,pixel406,pixel407,pixel408,pixel409,pixel410,pixel411,pixel412,pixel413,pixel414,pixel415,pixel416,pixel417,pixel418,pixel419,pixel420,pixel421,pixel422,pixel423,pixel424,pixel425,pixel426,pixel427,pixel428,pixel429,pixel430,pixel431,pixel432,pixel433,pixel434,pixel435,pixel436,pixel437,pixel438,pixel439,pixel440,pixel441,pixel442,pixel443,pixel444,pixel445,pixel446,pixel447,pixel448,pixel449,pixel450,pixel451,pixel452,pixel453,pixel454,pixel455,pixel456,pixel457,pixel458,pixel459,pixel460,pixel461,pixel462,pixel463,pixel464,pixel465,pixel466,pixel467,pixel468,pixel469,pixel470,pixel471,pixel472,pixel473,pixel474,pixel475,pixel476,pixel477,pixel478,pixel479,pixel480,pixel481,pixel482,pixel483,pixel484,pixel485,pixel486,pixel487,pixel488,pixel489,pixel490,pixel491,pixel492,pixel493,pixel494,pixel495,pixel496,pixel497,pixel498,pixel499,pixel500,pixel501,pixel502,pixel503,pixel504,pixel505,pixel506,pixel507,pixel508,pixel509,pixel510,pixel511,pixel512,pixel513,pixel514,pixel515,pixel516,pixel517,pixel518,pixel519,pixel520,pixel521,pixel522,pixel523,pixel524,pixel525,pixel526,pixel527,pixel528,pixel529,pixel530,pixel531,pixel532,pixel533,pixel534,pixel535,pixel536,pixel537,pixel538,pixel539,pixel540,pixel541,pixel542,pixel543,pixel544,pixel545,pixel546,pixel547,pixel548,pixel549,pixel550,pixel551,pixel552,pixel553,pixel554,pixel555,pixel556,pixel557,pixel558,pixel559,pixel560,pixel561,pixel562,pixel563,pixel564,pixel565,pixel566,pixel567,pixel568,pixel569,pixel570,pixel571,pixel572,pixel573,pixel574,pixel575,pixel576,pixel577,pixel578,pixel579,pixel580,pixel581,pixel582,pixel583,pixel584,pixel585,pixel586,pixel587,pixel588,pixel589,pixel590,pixel591,pixel592,pixel593,pixel594,pixel595,pixel596,pixel597,pixel598,pixel599,pixel600,pixel601,pixel602,pixel603,pixel604,pixel605,pixel606,pixel607,pixel608,pixel609,pixel610,pixel611,pixel612,pixel613,pixel614,pixel615,pixel616,pixel617,pixel618,pixel619,pixel620,pixel621,pixel622,pixel623,pixel624,pixel625,pixel626,pixel627,pixel628,pixel629,pixel630,pixel631,pixel632,pixel633,pixel634,pixel635,pixel636,pixel637,pixel638,pixel639,pixel640,pixel641,pixel642,pixel643,pixel644,pixel645,pixel646,pixel647,pixel648,pixel649,pixel650,pixel651,pixel652,pixel653,pixel654,pixel655,pixel656,pixel657,pixel658,pixel659,pixel660,pixel661,pixel662,pixel663,pixel664,pixel665,pixel666,pixel667,pixel668,pixel669,pixel670,pixel671,pixel672,pixel673,pixel674,pixel675,pixel676,pixel677,pixel678,pixel679,pixel680,pixel681,pixel682,pixel683,pixel684,pixel685,pixel686,pixel687,pixel688,pixel689,pixel690,pixel691,pixel692,pixel693,pixel694,pixel695,pixel696,pixel697,pixel698,pixel699,pixel700,pixel701,pixel702,pixel703,pixel704,pixel705,pixel706,pixel707,pixel708,pixel709,pixel710,pixel711,pixel712,pixel713,pixel714,pixel715,pixel716,pixel717,pixel718,pixel719,pixel720,pixel721,pixel722,pixel723,pixel724,pixel725,pixel726,pixel727,pixel728,pixel729,pixel730,pixel731,pixel732,pixel733,pixel734,pixel735,pixel736,pixel737,pixel738,pixel739,pixel740,pixel741,pixel742,pixel743,pixel744,pixel745,pixel746,pixel747,pixel748,pixel749,pixel750,pixel751,pixel752,pixel753,pixel754,pixel755,pixel756,pixel757,pixel758,pixel759,pixel760,pixel761,pixel762,pixel763,pixel764,pixel765,pixel766,pixel767,pixel768,pixel769,pixel770,pixel771,pixel772,pixel773,pixel774,pixel775,pixel776,pixel777,pixel778,pixel779,pixel780,pixel781,pixel782,pixel783,pixel784\n",
      "\n",
      "Each subsequent line (data points) look like this:\n",
      "3,107,118,127,134,139,143,146,150,153,156,158,160,163,165,159,166,168,170,170,171,171,171,172,171,171,170,170,169,111,121,129,135,141,144,148,151,154,157,160,163,164,170,119,152,171,171,170,171,172,172,172,172,172,171,171,170,113,123,131,137,142,145,150,152,155,158,161,163,164,172,105,142,170,171,171,171,172,172,173,173,172,171,171,171,116,125,133,139,143,146,151,153,156,159,162,163,167,167,95,144,171,172,172,172,172,172,173,173,173,172,172,171,117,126,134,140,145,149,153,156,158,161,163,164,175,156,87,154,172,173,173,173,173,173,174,174,174,173,172,172,119,128,136,142,146,150,153,156,159,163,165,164,184,148,89,164,172,174,174,174,174,175,175,174,175,174,173,173,122,130,138,143,147,150,154,158,162,165,166,172,181,128,94,170,173,175,174,175,176,177,177,177,177,175,175,174,122,132,139,145,149,152,156,160,163,165,166,181,172,103,113,175,176,178,178,179,179,179,179,178,179,177,175,174,125,134,141,147,150,153,157,161,164,167,168,184,179,116,126,165,176,179,180,180,181,180,180,180,179,178,177,176,128,135,142,148,152,154,158,162,165,168,170,187,180,156,161,124,143,179,178,178,181,182,181,180,181,180,179,179,129,136,144,150,153,155,159,163,166,169,172,187,184,153,102,117,110,175,169,154,182,183,183,182,182,181,181,179,131,138,145,150,155,157,161,165,168,174,190,189,175,146,94,97,113,151,158,129,184,184,184,184,183,183,182,180,131,139,146,151,155,159,163,167,175,182,179,171,159,114,102,89,121,136,136,96,172,186,186,185,185,184,182,181,131,140,147,154,157,160,164,179,186,191,187,180,157,100,88,84,108,111,126,90,120,186,187,187,186,185,184,182,133,141,149,155,158,160,174,201,189,165,151,143,146,120,87,78,87,76,108,98,96,181,188,187,186,186,185,183,133,141,150,156,160,161,179,197,174,135,99,72,95,134,97,72,74,68,116,105,108,187,189,187,187,186,186,185,134,143,151,156,161,163,179,194,156,110,74,42,52,139,94,67,75,75,118,106,129,189,191,190,188,188,187,186,135,144,152,158,163,163,177,193,161,122,84,43,71,134,81,57,71,88,112,98,157,193,193,192,190,190,189,188,136,144,152,158,162,163,176,192,164,128,98,62,60,100,71,76,96,101,105,95,174,195,194,194,194,193,191,190,137,145,152,159,164,165,178,191,164,135,113,82,59,87,98,111,120,108,97,108,190,196,195,195,194,193,193,192,139,146,154,160,164,165,175,186,163,139,112,85,67,102,126,133,126,105,104,176,197,198,197,196,195,195,194,193,138,147,155,161,165,167,172,186,163,137,107,87,76,106,122,125,117,96,156,199,199,200,198,196,196,195,195,194,139,148,156,163,166,168,172,180,158,131,108,99,86,108,118,116,103,107,191,202,201,200,200,200,199,197,198,196,140,149,157,164,168,167,177,178,155,131,118,105,87,100,106,100,96,164,202,202,202,202,202,201,200,199,199,198,140,150,157,165,167,170,181,175,152,130,115,98,82,85,90,99,165,202,203,204,203,203,202,202,201,201,200,200,142,150,159,165,170,191,173,157,144,119,97,84,79,79,91,172,202,203,203,205,204,204,204,203,202,202,201,200,142,151,160,165,188,190,187,150,119,109,85,79,79,78,137,203,205,206,206,207,207,206,206,204,205,204,203,202,142,151,160,172,196,188,188,190,135,96,86,77,77,79,176,205,207,207,207,207,207,207,206,206,206,204,203,202\n",
      "\n"
     ]
    }
   ],
   "source": [
    "with open(TRAINING_FILE) as training_file:\n",
    "  line = training_file.readline()\n",
    "  print(f\"First line (header) looks like this:\\n{line}\")\n",
    "  line = training_file.readline()\n",
    "  print(f\"Each subsequent line (data points) look like this:\\n{line}\")"
   ],
   "metadata": {
    "collapsed": false,
    "pycharm": {
     "name": "#%%\n"
    }
   }
  },
  {
   "cell_type": "markdown",
   "source": [
    "Parsing the dataset\n",
    "Now complete the parse_data_from_input below.\n",
    "\n",
    "This function should be able to read a file passed as input and return 2 numpy arrays, one containing the labels and one containing the 28x28 representation of each image within the file. These numpy arrays should have type float64.\n",
    "\n",
    "A couple of things to keep in mind:\n",
    "\n",
    "The first line contains the column headers, so you should ignore it.\n",
    "\n",
    "Each successive line contains 785 comma-separated values between 0 and 255\n",
    "\n",
    "The first value is the label\n",
    "\n",
    "The rest are the pixel values for that picture\n",
    "\n",
    "Tips:\n",
    "\n",
    "csv.reader returns an iterable that returns a row of the csv file in each iteration. Following this convention, row[0] has the label and row[1:] has the 784 pixel values.\n",
    "\n",
    "To reshape the arrays (going from 784 to 28x28), you can use functions such as np.array_split or np.reshape.\n",
    "\n",
    "For type conversion of the numpy arrays, use the method np.ndarray.astype."
   ],
   "metadata": {
    "collapsed": false
   }
  },
  {
   "cell_type": "code",
   "execution_count": 29,
   "outputs": [],
   "source": [
    "# GRADED FUNCTION: parse_data_from_input\n",
    "def parse_data_from_input(filename):\n",
    "  with open(filename) as file:\n",
    "    ### START CODE HERE\n",
    "\n",
    "    # Use csv.reader, passing in the appropriate delimiter\n",
    "    # Remember that csv.reader can be iterated and returns one line in each iteration\n",
    "    csv_reader = csv.reader(file, delimiter=\",\")\n",
    "\n",
    "    labels = []\n",
    "    images = []\n",
    "    next(csv_reader) # ignore first line\n",
    "    for row in csv_reader:\n",
    "      labels.append(row[0])\n",
    "      img_as_array = np.array_split(row[1:], 28)\n",
    "      images.append(img_as_array)\n",
    "\n",
    "    labels = np.array(labels).astype(float)\n",
    "    images = np.array(images).astype(float)\n",
    "    ### END CODE HERE\n",
    "\n",
    "    return images, labels"
   ],
   "metadata": {
    "collapsed": false,
    "pycharm": {
     "name": "#%%\n"
    }
   }
  },
  {
   "cell_type": "code",
   "execution_count": 30,
   "outputs": [
    {
     "name": "stdout",
     "output_type": "stream",
     "text": [
      "Training images has shape: (27455, 28, 28)\n",
      "Training labels has shape: (27455,)\n",
      "Validation images has shape: (7172, 28, 28)\n",
      "Validation labels has shape: (7172,)\n"
     ]
    }
   ],
   "source": [
    "# Test your function\n",
    "training_images, training_labels = parse_data_from_input(TRAINING_FILE)\n",
    "validation_images, validation_labels = parse_data_from_input(VALIDATION_FILE)\n",
    "\n",
    "print(f\"Training images has shape: {training_images.shape}\")\n",
    "print(f\"Training labels has shape: {training_labels.shape}\")\n",
    "print(f\"Validation images has shape: {validation_images.shape}\")\n",
    "print(f\"Validation labels has shape: {validation_labels.shape}\")"
   ],
   "metadata": {
    "collapsed": false,
    "pycharm": {
     "name": "#%%\n"
    }
   }
  },
  {
   "cell_type": "markdown",
   "source": [
    "Expected Output:\n",
    "\n",
    "Training images has shape: (27455, 28, 28)\n",
    "Training labels has shape: (27455,)\n",
    "Testing images has shape: (7172, 28, 28)\n",
    "Testing labels has shape: (7172,)"
   ],
   "metadata": {
    "collapsed": false
   }
  },
  {
   "cell_type": "code",
   "execution_count": 41,
   "outputs": [
    {
     "data": {
      "text/plain": "<Figure size 1152x1080 with 10 Axes>",
      "image/png": "[encoded data removed]"
     },
     "metadata": {
      "needs_background": "light"
     },
     "output_type": "display_data"
    }
   ],
   "source": [
    "# Plot a sample of 10 images from the training set\n",
    "def plot_categories(training_images, training_labels):\n",
    "  fig, axes = plt.subplots(1, 10, figsize=(16, 15))\n",
    "  axes = axes.flatten()\n",
    "  letters = list(string.ascii_lowercase)\n",
    "\n",
    "  for k in range(10):\n",
    "    img = training_images[k]\n",
    "    img = np.expand_dims(img, axis=-1)\n",
    "    img = array_to_img(img)\n",
    "    ax = axes[k]\n",
    "    ax.imshow(img, cmap=\"Greys_r\")\n",
    "    ax.set_title(f\"{letters[int(training_labels[k])]}\")\n",
    "    ax.set_axis_off()\n",
    "\n",
    "  plt.tight_layout()\n",
    "  plt.show()\n",
    "\n",
    "plot_categories(training_images, training_labels)"
   ],
   "metadata": {
    "collapsed": false,
    "pycharm": {
     "name": "#%%\n"
    }
   }
  },
  {
   "cell_type": "code",
   "execution_count": 32,
   "outputs": [],
   "source": [
    "# GRADED FUNCTION: train_val_generators\n",
    "def train_val_generators(training_images, training_labels, validation_images, validation_labels):\n",
    "  ### START CODE HERE\n",
    "\n",
    "  # In this section you will have to add another dimension to the data\n",
    "  # So, for example, if your array is (10000, 28, 28)\n",
    "  # You will need to make it (10000, 28, 28, 1)\n",
    "  # Hint: np.expand_dims\n",
    "  training_images = np.expand_dims(training_images, axis=3)\n",
    "  validation_images = np.expand_dims(validation_images, axis=3)\n",
    "\n",
    "  # Instantiate the ImageDataGenerator class\n",
    "  # Don't forget to normalize pixel values\n",
    "  # and set arguments to augment the images (if desired)\n",
    "  train_datagen = ImageDataGenerator(\n",
    "    rescale=1./255,\n",
    "    rotation_range=40,\n",
    "    width_shift_range=0.2,\n",
    "    height_shift_range=0.2,\n",
    "    shear_range=0.2,\n",
    "    zoom_range=0.2,\n",
    "    horizontal_flip=True,\n",
    "    fill_mode='nearest'\n",
    "  )\n",
    "\n",
    "  # Pass in the appropriate arguments to the flow method\n",
    "  train_generator = train_datagen.flow(training_images,\n",
    "                                       training_labels,\n",
    "                                       batch_size=32)\n",
    "\n",
    "\n",
    "  # Instantiate the ImageDataGenerator class (don't forget to set the rescale argument)\n",
    "  # Remember that validation data should not be augmented\n",
    "  validation_datagen = ImageDataGenerator(rescale=1./255)\n",
    "\n",
    "  # Pass in the appropriate arguments to the flow method\n",
    "  validation_generator = validation_datagen.flow(validation_images,\n",
    "                                                 validation_labels,\n",
    "                                                 batch_size=32)\n",
    "\n",
    "  ### END CODE HERE\n",
    "\n",
    "  return train_generator, validation_generator"
   ],
   "metadata": {
    "collapsed": false,
    "pycharm": {
     "name": "#%%\n"
    }
   }
  },
  {
   "cell_type": "code",
   "execution_count": 33,
   "outputs": [
    {
     "name": "stdout",
     "output_type": "stream",
     "text": [
      "Images of training generator have shape: (27455, 28, 28, 1)\n",
      "Labels of training generator have shape: (27455,)\n",
      "Images of validation generator have shape: (7172, 28, 28, 1)\n",
      "Labels of validation generator have shape: (7172,)\n"
     ]
    }
   ],
   "source": [
    "# Test your generators\n",
    "train_generator, validation_generator = train_val_generators(training_images, training_labels, validation_images, validation_labels)\n",
    "\n",
    "print(f\"Images of training generator have shape: {train_generator.x.shape}\")\n",
    "print(f\"Labels of training generator have shape: {train_generator.y.shape}\")\n",
    "print(f\"Images of validation generator have shape: {validation_generator.x.shape}\")\n",
    "print(f\"Labels of validation generator have shape: {validation_generator.y.shape}\")"
   ],
   "metadata": {
    "collapsed": false,
    "pycharm": {
     "name": "#%%\n"
    }
   }
  },
  {
   "cell_type": "markdown",
   "source": [
    "Expected Output:\n",
    "\n",
    "Images of training generator have shape: (27455, 28, 28, 1)\n",
    "Labels of training generator have shape: (27455,)\n",
    "Images of validation generator have shape: (7172, 28, 28, 1)\n",
    "Labels of validation generator have shape: (7172,)\n"
   ],
   "metadata": {
    "collapsed": false
   }
  },
  {
   "cell_type": "code",
   "execution_count": 36,
   "outputs": [],
   "source": [
    "def create_model():\n",
    "\n",
    "  ### START CODE HERE\n",
    "\n",
    "  # Define the model\n",
    "  # Use no more than 2 Conv2D and 2 MaxPooling2D\n",
    "  model = tf.keras.models.Sequential([\n",
    "    tf.keras.layers.Conv2D(64, (3,3), activation='relu', input_shape=(28, 28, 1)),\n",
    "    tf.keras.layers.MaxPooling2D(2,2),\n",
    "    tf.keras.layers.Conv2D(64, (3,3), activation='relu',),\n",
    "    tf.keras.layers.MaxPooling2D(2,2),\n",
    "    tf.keras.layers.Flatten(),\n",
    "    tf.keras.layers.Dense(128, activation='relu'),\n",
    "    tf.keras.layers.Dense(26, activation='softmax')\n",
    "  ])\n",
    "\n",
    "\n",
    "  model.compile(optimizer = 'rmsprop',\n",
    "                loss = 'sparse_categorical_crossentropy', # sparse categorical because its using numbers for labels\n",
    "                metrics=['accuracy'])\n",
    "\n",
    "  ### END CODE HERE\n",
    "\n",
    "  return model"
   ],
   "metadata": {
    "collapsed": false,
    "pycharm": {
     "name": "#%%\n"
    }
   }
  },
  {
   "cell_type": "code",
   "execution_count": 37,
   "outputs": [
    {
     "name": "stdout",
     "output_type": "stream",
     "text": [
      "Epoch 1/15\n",
      "858/858 [==============================] - 16s 18ms/step - loss: 2.7941 - accuracy: 0.1572 - val_loss: 1.9405 - val_accuracy: 0.3876\n",
      "Epoch 2/15\n",
      "858/858 [==============================] - 15s 17ms/step - loss: 2.1421 - accuracy: 0.3290 - val_loss: 1.4892 - val_accuracy: 0.5375\n",
      "Epoch 3/15\n",
      "858/858 [==============================] - 15s 17ms/step - loss: 1.7594 - accuracy: 0.4402 - val_loss: 1.0712 - val_accuracy: 0.6651\n",
      "Epoch 4/15\n",
      "858/858 [==============================] - 15s 17ms/step - loss: 1.4649 - accuracy: 0.5294 - val_loss: 0.9034 - val_accuracy: 0.6793\n",
      "Epoch 5/15\n",
      "858/858 [==============================] - 15s 17ms/step - loss: 1.2626 - accuracy: 0.5910 - val_loss: 0.6703 - val_accuracy: 0.7953\n",
      "Epoch 6/15\n",
      "858/858 [==============================] - 15s 17ms/step - loss: 1.0949 - accuracy: 0.6427 - val_loss: 0.6469 - val_accuracy: 0.7719\n",
      "Epoch 7/15\n",
      "858/858 [==============================] - 15s 17ms/step - loss: 0.9771 - accuracy: 0.6770 - val_loss: 0.5339 - val_accuracy: 0.8080\n",
      "Epoch 8/15\n",
      "858/858 [==============================] - 15s 17ms/step - loss: 0.8806 - accuracy: 0.7103 - val_loss: 0.4167 - val_accuracy: 0.8508\n",
      "Epoch 9/15\n",
      "858/858 [==============================] - 15s 17ms/step - loss: 0.8046 - accuracy: 0.7344 - val_loss: 0.3994 - val_accuracy: 0.8593\n",
      "Epoch 10/15\n",
      "858/858 [==============================] - 15s 18ms/step - loss: 0.7530 - accuracy: 0.7520 - val_loss: 0.3520 - val_accuracy: 0.8811\n",
      "Epoch 11/15\n",
      "858/858 [==============================] - 15s 17ms/step - loss: 0.6904 - accuracy: 0.7726 - val_loss: 0.3551 - val_accuracy: 0.8802\n",
      "Epoch 12/15\n",
      "858/858 [==============================] - 15s 17ms/step - loss: 0.6586 - accuracy: 0.7845 - val_loss: 0.4091 - val_accuracy: 0.8383\n",
      "Epoch 13/15\n",
      "858/858 [==============================] - 15s 17ms/step - loss: 0.6230 - accuracy: 0.7924 - val_loss: 0.3566 - val_accuracy: 0.8701\n",
      "Epoch 14/15\n",
      "858/858 [==============================] - 14s 17ms/step - loss: 0.5844 - accuracy: 0.8072 - val_loss: 0.3399 - val_accuracy: 0.8793\n",
      "Epoch 15/15\n",
      "858/858 [==============================] - 15s 17ms/step - loss: 0.5693 - accuracy: 0.8142 - val_loss: 0.1765 - val_accuracy: 0.9459\n"
     ]
    }
   ],
   "source": [
    "# Save your model\n",
    "model = create_model()\n",
    "\n",
    "# Train your model\n",
    "history = model.fit(train_generator,\n",
    "                    epochs=15,\n",
    "                    validation_data=validation_generator)"
   ],
   "metadata": {
    "collapsed": false,
    "pycharm": {
     "name": "#%%\n"
    }
   }
  },
  {
   "cell_type": "code",
   "execution_count": 40,
   "outputs": [
    {
     "data": {
      "text/plain": "<Figure size 432x288 with 1 Axes>",
      "image/png": "[encoded data removed]"
     },
     "metadata": {
      "needs_background": "light"
     },
     "output_type": "display_data"
    },
    {
     "data": {
      "text/plain": "<Figure size 432x288 with 1 Axes>",
      "image/png": "[encoded data removed]"
     },
     "metadata": {
      "needs_background": "light"
     },
     "output_type": "display_data"
    }
   ],
   "source": [
    "# Plot the chart for accuracy and loss on both training and validation\n",
    "acc = history.history['accuracy']\n",
    "val_acc = history.history['val_accuracy']\n",
    "loss = history.history['loss']\n",
    "val_loss = history.history['val_loss']\n",
    "\n",
    "epochs = range(len(acc))\n",
    "\n",
    "plt.plot(epochs, acc, 'r', label='Training accuracy')\n",
    "plt.plot(epochs, val_acc, 'b', label='Validation accuracy')\n",
    "plt.title('Training and validation accuracy')\n",
    "plt.legend()\n",
    "plt.figure()\n",
    "\n",
    "plt.plot(epochs, loss, 'r', label='Training Loss')\n",
    "plt.plot(epochs, val_loss, 'b', label='Validation Loss')\n",
    "plt.title('Training and validation loss')\n",
    "plt.legend()\n",
    "\n",
    "plt.show()"
   ],
   "metadata": {
    "collapsed": false,
    "pycharm": {
     "name": "#%%\n"
    }
   }
  }
 ],
 "metadata": {
  "kernelspec": {
   "display_name": "Python 3",
   "language": "python",
   "name": "python3"
  },
  "language_info": {
   "codemirror_mode": {
    "name": "ipython",
    "version": 2
   },
   "file_extension": ".py",
   "mimetype": "text/x-python",
   "name": "python",
   "nbconvert_exporter": "python",
   "pygments_lexer": "ipython2",
   "version": "2.7.6"
  }
 },
 "nbformat": 4,
 "nbformat_minor": 0
}